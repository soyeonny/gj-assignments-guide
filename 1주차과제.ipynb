{
  "nbformat": 4,
  "nbformat_minor": 0,
  "metadata": {
    "colab": {
      "name": "1주차과제.ipynb",
      "provenance": [],
      "authorship_tag": "ABX9TyOeJ9Dp22WNoUgumZ/bi2E2",
      "include_colab_link": true
    },
    "kernelspec": {
      "name": "python3",
      "display_name": "Python 3"
    }
  },
  "cells": [
    {
      "cell_type": "markdown",
      "metadata": {
        "id": "view-in-github",
        "colab_type": "text"
      },
      "source": [
        "<a href=\"https://colab.research.google.com/github/soyeonny/gj-assignments-guide/blob/master/1%EC%A3%BC%EC%B0%A8%EA%B3%BC%EC%A0%9C.ipynb\" target=\"_parent\"><img src=\"https://colab.research.google.com/assets/colab-badge.svg\" alt=\"Open In Colab\"/></a>"
      ]
    },
    {
      "cell_type": "markdown",
      "metadata": {
        "id": "5g8-k_LC-4UA",
        "colab_type": "text"
      },
      "source": [
        "# 인공지능 사관학교 프리코스 과제 목차"
      ]
    },
    {
      "cell_type": "markdown",
      "metadata": {
        "id": "8rntrFKN_BAF",
        "colab_type": "text"
      },
      "source": [
        "## 1주차 과제 (2020.05.29)"
      ]
    },
    {
      "cell_type": "markdown",
      "metadata": {
        "id": "D3SMHiLr_DjT",
        "colab_type": "text"
      },
      "source": [
        "### * 자율주행 '테슬라'의 오토파일럿 기능"
      ]
    },
    {
      "cell_type": "markdown",
      "metadata": {
        "id": "SjLkSK2P_TMg",
        "colab_type": "text"
      },
      "source": [
        "### * 인공지능 스피커 '구글 미니','기가지니'\n",
        "#### AI 스피커는 인공지능 알고리즘을 이용해 사용자와 음성으로 의사소통을 한다. AI 스피커를 이용하면 음성인식을 통해 집안의 기기를 목소리만으로 간편하게 제어하는 식으로 손 쉽게 스마트 홈 환경을 구축할 수 있다."
      ]
    },
    {
      "cell_type": "markdown",
      "metadata": {
        "id": "6mBBMFaO_wbB",
        "colab_type": "text"
      },
      "source": [
        "### * 인공지능 CCTV\n",
        "#### 인공지능 보안 분야의 활용된 사례는 한화 테크원과 엔비디아사의 인공지능 CCTV이다. 촬영하게 될 경우 스스로 인식하여 이상신호 송출한다."
      ]
    },
    {
      "cell_type": "markdown",
      "metadata": {
        "id": "fVTju5kZAt4a",
        "colab_type": "text"
      },
      "source": [
        "### * 인공지능 번역기 '파파고'\n",
        "#### 파파고는 인공지능 신경망 기술 기반 통번역 서비스 앱이다. "
      ]
    }
  ]
}